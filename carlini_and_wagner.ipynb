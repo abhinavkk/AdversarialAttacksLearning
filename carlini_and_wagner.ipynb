{
  "nbformat": 4,
  "nbformat_minor": 0,
  "metadata": {
    "colab": {
      "name": "Untitled7.ipynb",
      "provenance": [],
      "toc_visible": true
    },
    "kernelspec": {
      "name": "python3",
      "display_name": "Python 3"
    },
    "language_info": {
      "name": "python"
    }
  },
  "cells": [
    {
      "cell_type": "markdown",
      "metadata": {
        "id": "MqIEiMdar_5q"
      },
      "source": [
        "#Part 4: Carlini and Wagner Attack"
      ]
    },
    {
      "cell_type": "code",
      "metadata": {
        "id": "oyyNb-v5sCY6",
        "colab": {
          "base_uri": "https://localhost:8080/"
        },
        "outputId": "53bd9e16-51e3-4f9a-df01-1d3da05e174a"
      },
      "source": [
        "#Implementing the CW attack\n",
        "\n",
        "#CW Instance on trained classifier from Part 1\n",
        "carlini_wagner = CarliniWagnerL2(wrap, sess=sess)\n",
        "\n",
        "#Attack parameters\n",
        "cw_params = {'binary_search_steps':1,\n",
        "             'learning_rate':1.25,\n",
        "             'batch_size':16,\n",
        "             'initial_const':10,\n",
        "             'clip_min':0.,\n",
        "             'clip_max':1.}\n",
        "\n",
        "\n",
        "#Generate adversarial data\n",
        "cw_adversarial_data_train = carlini_wagner.generate_np(data_train, **cw_params)\n",
        "cw_adversarial_data_test = carlini_wagner.generate_np(data_test, **cw_params)\n",
        "\n",
        "\n",
        "#Evaluate accuracy of perturbed data on target classifier\n",
        "cw_perturbed_data_score = classifier.evaluate(cw_adversarial_data_test, labels_test)\n",
        "print(f'Carlini and Wagner produced perturbed data has accuracy {cw_perturbed_data_score[1]*100}%')"
      ],
      "execution_count": null,
      "outputs": [
        {
          "output_type": "stream",
          "name": "stdout",
          "text": [
            "10000/10000 [==============================] - 1s 53us/step\n",
            "Carlini and Wagner produced perturbed data has accuracy 1.2000000104308128%\n"
          ]
        }
      ]
    },
    {
      "cell_type": "code",
      "metadata": {
        "id": "rlEMqrlPurRL",
        "colab": {
          "base_uri": "https://localhost:8080/",
          "height": 427
        },
        "outputId": "85117f45-2bed-48a5-9bb0-0bcad91cb1ce"
      },
      "source": [
        "#Show ten original samples and their corresponding adversarial samples\n",
        "fig, axes = plt.subplots(2, 10, figsize=(20, 7))\n",
        "grids = plt.GridSpec(2, 1)\n",
        "titles = ['Original Samples', 'Corresponsfing Adversarial Samples']\n",
        "\n",
        "for i in range(2):\n",
        "  row = fig.add_subplot(grids[i])\n",
        "  row.set_title(titles[i])\n",
        "  row.set_axis_off()\n",
        "\n",
        "for i in range(10):\n",
        "  axes[0][i].imshow(data_test[i].reshape(28, 28))\n",
        "  axes[1][i].imshow(cw_adversarial_data_test[i].reshape(28, 28))"
      ],
      "execution_count": null,
      "outputs": [
        {
          "output_type": "display_data",
          "data": {
            "image/png": "[encoded data removed]",
            "text/plain": [
              "<Figure size 1440x504 with 22 Axes>"
            ]
          },
          "metadata": {
            "needs_background": "light"
          }
        }
      ]
    },
    {
      "cell_type": "code",
      "metadata": {
        "id": "P-VhQHQ2uvmV",
        "colab": {
          "base_uri": "https://localhost:8080/"
        },
        "outputId": "8b7c6fb5-ac28-4705-e7d0-773cc501e717"
      },
      "source": [
        "#Implementing the dimensionality reduction (PCA) defense \n",
        "\n",
        "#Calculate PCA projection\n",
        "pca = PCA(100)\n",
        "pca.fit(data_train)\n",
        "pca_train = pca.transform(data_train)\n",
        "pca_test = pca.transform(data_test)\n",
        "\n",
        "#Transform perturbed CW data using the subspace from the original training data\n",
        "cw_transformed_data_train = pca.transform(cw_adversarial_data_train)\n",
        "cw_transformed_data_test = pca.transform(cw_adversarial_data_test)\n",
        "\n",
        "# create model for PCA\n",
        "def pca_model():\n",
        "    model = Sequential()\n",
        "    model.add(Dense(100, activation='relu', kernel_initializer='uniform', input_dim=100))\n",
        "    model.add(BatchNormalization())\n",
        "    model.add(Dense(100, activation='relu', kernel_initializer='uniform'))\n",
        "    model.add(BatchNormalization())\n",
        "    model.add(Dense(10, activation='softmax', kernel_initializer='uniform'))\n",
        "\n",
        "    return model\n",
        "\n",
        "#Create model graph, compile it, and train it using pca_train lables_train \n",
        "pca = pca_model()\n",
        "pca.compile(loss='categorical_crossentropy', optimizer='adam', metrics=['accuracy'])\n",
        "\n",
        "pca_metadata = pca.fit(cw_transformed_data_train, labels_train,\n",
        "                       validation_data=(cw_transformed_data_test, labels_test),\n",
        "                       epochs=50,\n",
        "                       batch_size=256,\n",
        "                       shuffle=True)"
      ],
      "execution_count": null,
      "outputs": [
        {
          "output_type": "stream",
          "name": "stdout",
          "text": [
            "WARNING:tensorflow:From /tensorflow-1.15.2/python3.7/keras/backend/tensorflow_backend.py:431: The name tf.is_variable_initialized is deprecated. Please use tf.compat.v1.is_variable_initialized instead.\n",
            "\n",
            "Train on 60000 samples, validate on 10000 samples\n",
            "Epoch 1/50\n",
            "60000/60000 [==============================] - 2s 26us/step - loss: 0.5209 - accuracy: 0.8555 - val_loss: 0.8255 - val_accuracy: 0.9233\n",
            "Epoch 2/50\n",
            "60000/60000 [==============================] - 1s 21us/step - loss: 0.2161 - accuracy: 0.9340 - val_loss: 0.1938 - val_accuracy: 0.9418\n",
            "Epoch 3/50\n",
            "60000/60000 [==============================] - 1s 21us/step - loss: 0.1594 - accuracy: 0.9513 - val_loss: 0.1596 - val_accuracy: 0.9488\n",
            "Epoch 4/50\n",
            "60000/60000 [==============================] - 1s 22us/step - loss: 0.1299 - accuracy: 0.9600 - val_loss: 0.1471 - val_accuracy: 0.9489\n",
            "Epoch 5/50\n",
            "60000/60000 [==============================] - 1s 21us/step - loss: 0.1111 - accuracy: 0.9650 - val_loss: 0.1415 - val_accuracy: 0.9527\n",
            "Epoch 6/50\n",
            "60000/60000 [==============================] - 1s 22us/step - loss: 0.0939 - accuracy: 0.9705 - val_loss: 0.1384 - val_accuracy: 0.9567\n",
            "Epoch 7/50\n",
            "60000/60000 [==============================] - 1s 20us/step - loss: 0.0811 - accuracy: 0.9742 - val_loss: 0.1429 - val_accuracy: 0.9550\n",
            "Epoch 8/50\n",
            "60000/60000 [==============================] - 1s 21us/step - loss: 0.0730 - accuracy: 0.9765 - val_loss: 0.1456 - val_accuracy: 0.9559\n",
            "Epoch 9/50\n",
            "60000/60000 [==============================] - 1s 22us/step - loss: 0.0641 - accuracy: 0.9791 - val_loss: 0.1469 - val_accuracy: 0.9560\n",
            "Epoch 10/50\n",
            "60000/60000 [==============================] - 1s 21us/step - loss: 0.0590 - accuracy: 0.9804 - val_loss: 0.1444 - val_accuracy: 0.9553\n",
            "Epoch 11/50\n",
            "60000/60000 [==============================] - 1s 20us/step - loss: 0.0505 - accuracy: 0.9833 - val_loss: 0.1536 - val_accuracy: 0.9565\n",
            "Epoch 12/50\n",
            "60000/60000 [==============================] - 1s 20us/step - loss: 0.0461 - accuracy: 0.9843 - val_loss: 0.1468 - val_accuracy: 0.9580\n",
            "Epoch 13/50\n",
            "60000/60000 [==============================] - 1s 20us/step - loss: 0.0397 - accuracy: 0.9871 - val_loss: 0.1537 - val_accuracy: 0.9575\n",
            "Epoch 14/50\n",
            "60000/60000 [==============================] - 1s 20us/step - loss: 0.0376 - accuracy: 0.9876 - val_loss: 0.1541 - val_accuracy: 0.9561\n",
            "Epoch 15/50\n",
            "60000/60000 [==============================] - 1s 20us/step - loss: 0.0368 - accuracy: 0.9876 - val_loss: 0.1632 - val_accuracy: 0.9537\n",
            "Epoch 16/50\n",
            "60000/60000 [==============================] - 1s 21us/step - loss: 0.0325 - accuracy: 0.9893 - val_loss: 0.1754 - val_accuracy: 0.9547\n",
            "Epoch 17/50\n",
            "60000/60000 [==============================] - 1s 21us/step - loss: 0.0309 - accuracy: 0.9901 - val_loss: 0.1595 - val_accuracy: 0.9565\n",
            "Epoch 18/50\n",
            "60000/60000 [==============================] - 1s 21us/step - loss: 0.0283 - accuracy: 0.9906 - val_loss: 0.1725 - val_accuracy: 0.9553\n",
            "Epoch 19/50\n",
            "60000/60000 [==============================] - 1s 22us/step - loss: 0.0264 - accuracy: 0.9915 - val_loss: 0.1745 - val_accuracy: 0.9537\n",
            "Epoch 20/50\n",
            "60000/60000 [==============================] - 1s 21us/step - loss: 0.0260 - accuracy: 0.9911 - val_loss: 0.1825 - val_accuracy: 0.9533\n",
            "Epoch 21/50\n",
            "60000/60000 [==============================] - 1s 22us/step - loss: 0.0247 - accuracy: 0.9916 - val_loss: 0.1742 - val_accuracy: 0.9576\n",
            "Epoch 22/50\n",
            "60000/60000 [==============================] - 1s 20us/step - loss: 0.0205 - accuracy: 0.9936 - val_loss: 0.1801 - val_accuracy: 0.9573\n",
            "Epoch 23/50\n",
            "60000/60000 [==============================] - 1s 21us/step - loss: 0.0201 - accuracy: 0.9934 - val_loss: 0.1809 - val_accuracy: 0.9567\n",
            "Epoch 24/50\n",
            "60000/60000 [==============================] - 1s 20us/step - loss: 0.0190 - accuracy: 0.9936 - val_loss: 0.1896 - val_accuracy: 0.9553\n",
            "Epoch 25/50\n",
            "60000/60000 [==============================] - 1s 20us/step - loss: 0.0207 - accuracy: 0.9932 - val_loss: 0.1880 - val_accuracy: 0.9569\n",
            "Epoch 26/50\n",
            "60000/60000 [==============================] - 1s 21us/step - loss: 0.0184 - accuracy: 0.9940 - val_loss: 0.1889 - val_accuracy: 0.9578\n",
            "Epoch 27/50\n",
            "60000/60000 [==============================] - 1s 20us/step - loss: 0.0175 - accuracy: 0.9943 - val_loss: 0.1912 - val_accuracy: 0.9571\n",
            "Epoch 28/50\n",
            "60000/60000 [==============================] - 1s 20us/step - loss: 0.0162 - accuracy: 0.9947 - val_loss: 0.1950 - val_accuracy: 0.9554\n",
            "Epoch 29/50\n",
            "60000/60000 [==============================] - 1s 20us/step - loss: 0.0200 - accuracy: 0.9931 - val_loss: 0.1903 - val_accuracy: 0.9564\n",
            "Epoch 30/50\n",
            "60000/60000 [==============================] - 1s 21us/step - loss: 0.0161 - accuracy: 0.9947 - val_loss: 0.1946 - val_accuracy: 0.9577\n",
            "Epoch 31/50\n",
            "60000/60000 [==============================] - 1s 21us/step - loss: 0.0138 - accuracy: 0.9958 - val_loss: 0.2050 - val_accuracy: 0.9548\n",
            "Epoch 32/50\n",
            "60000/60000 [==============================] - 1s 20us/step - loss: 0.0142 - accuracy: 0.9956 - val_loss: 0.2128 - val_accuracy: 0.9549\n",
            "Epoch 33/50\n",
            "60000/60000 [==============================] - 1s 20us/step - loss: 0.0161 - accuracy: 0.9944 - val_loss: 0.2098 - val_accuracy: 0.9553\n",
            "Epoch 34/50\n",
            "60000/60000 [==============================] - 1s 21us/step - loss: 0.0137 - accuracy: 0.9958 - val_loss: 0.2074 - val_accuracy: 0.9554\n",
            "Epoch 35/50\n",
            "60000/60000 [==============================] - 1s 21us/step - loss: 0.0118 - accuracy: 0.9964 - val_loss: 0.1997 - val_accuracy: 0.9576\n",
            "Epoch 36/50\n",
            "60000/60000 [==============================] - 1s 21us/step - loss: 0.0091 - accuracy: 0.9974 - val_loss: 0.2130 - val_accuracy: 0.9562\n",
            "Epoch 37/50\n",
            "60000/60000 [==============================] - 1s 22us/step - loss: 0.0100 - accuracy: 0.9971 - val_loss: 0.2079 - val_accuracy: 0.9569\n",
            "Epoch 38/50\n",
            "60000/60000 [==============================] - 1s 23us/step - loss: 0.0149 - accuracy: 0.9948 - val_loss: 0.2139 - val_accuracy: 0.9562\n",
            "Epoch 39/50\n",
            "60000/60000 [==============================] - 1s 20us/step - loss: 0.0171 - accuracy: 0.9942 - val_loss: 0.2222 - val_accuracy: 0.9531\n",
            "Epoch 40/50\n",
            "60000/60000 [==============================] - 1s 20us/step - loss: 0.0159 - accuracy: 0.9947 - val_loss: 0.2289 - val_accuracy: 0.9541\n",
            "Epoch 41/50\n",
            "60000/60000 [==============================] - 1s 21us/step - loss: 0.0135 - accuracy: 0.9955 - val_loss: 0.2195 - val_accuracy: 0.9567\n",
            "Epoch 42/50\n",
            "60000/60000 [==============================] - 1s 21us/step - loss: 0.0094 - accuracy: 0.9971 - val_loss: 0.2155 - val_accuracy: 0.9571\n",
            "Epoch 43/50\n",
            "60000/60000 [==============================] - 1s 21us/step - loss: 0.0098 - accuracy: 0.9969 - val_loss: 0.2287 - val_accuracy: 0.9551\n",
            "Epoch 44/50\n",
            "60000/60000 [==============================] - 1s 21us/step - loss: 0.0111 - accuracy: 0.9962 - val_loss: 0.2297 - val_accuracy: 0.9565\n",
            "Epoch 45/50\n",
            "60000/60000 [==============================] - 1s 21us/step - loss: 0.0098 - accuracy: 0.9968 - val_loss: 0.2324 - val_accuracy: 0.9543\n",
            "Epoch 46/50\n",
            "60000/60000 [==============================] - 1s 21us/step - loss: 0.0097 - accuracy: 0.9968 - val_loss: 0.2264 - val_accuracy: 0.9552\n",
            "Epoch 47/50\n",
            "60000/60000 [==============================] - 1s 22us/step - loss: 0.0117 - accuracy: 0.9960 - val_loss: 0.2347 - val_accuracy: 0.9560\n",
            "Epoch 48/50\n",
            "60000/60000 [==============================] - 1s 21us/step - loss: 0.0098 - accuracy: 0.9966 - val_loss: 0.2319 - val_accuracy: 0.9551\n",
            "Epoch 49/50\n",
            "60000/60000 [==============================] - 1s 21us/step - loss: 0.0107 - accuracy: 0.9965 - val_loss: 0.2413 - val_accuracy: 0.9553\n",
            "Epoch 50/50\n",
            "60000/60000 [==============================] - 1s 21us/step - loss: 0.0101 - accuracy: 0.9969 - val_loss: 0.2337 - val_accuracy: 0.9568\n"
          ]
        }
      ]
    },
    {
      "cell_type": "code",
      "metadata": {
        "id": "o9L61AfG2y94",
        "colab": {
          "base_uri": "https://localhost:8080/"
        },
        "outputId": "42a15a23-d9b6-4a87-8b6c-bace47aa733d"
      },
      "source": [
        "#Using the defense (and comparing to baseline accuracy)\n",
        "pca_score = pca.evaluate(cw_transformed_data_test, labels_test)\n",
        "print(f'PCA trained classifier accuracy on Carlini and Wagner Attack: {pca_score[1]*100}%')"
      ],
      "execution_count": null,
      "outputs": [
        {
          "output_type": "stream",
          "name": "stdout",
          "text": [
            "10000/10000 [==============================] - 1s 58us/step\n",
            "PCA trained classifier accuracy on Carlini and Wagner Attack: 95.67999839782715%\n"
          ]
        }
      ]
    }
  ]
}